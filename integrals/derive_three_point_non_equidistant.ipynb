{
 "cells": [
  {
   "cell_type": "code",
   "execution_count": 1,
   "id": "5a167e2a",
   "metadata": {},
   "outputs": [],
   "source": [
    "import sympy\n",
    "xvar = sympy.symbols(\"xvar\")\n",
    "x = sympy.symbols(\"x\")\n",
    "x1, x2, x3 = sympy.symbols(\"x1 x2 x3\")\n",
    "y1, y2, y3 = sympy.symbols(\"y1 y2 y3\")\n",
    "c1 = y1 / ((x1-x2)*(x1-x3))\n",
    "c2 = y2 / ((x2-x1)*(x2-x3))\n",
    "c3 = y3 / ((x3-x2)*(x3-x1))"
   ]
  },
  {
   "cell_type": "code",
   "execution_count": 2,
   "id": "9ab776fb",
   "metadata": {},
   "outputs": [],
   "source": [
    "def f(x):\n",
    "    return (c1*(x-x2)*(x-x3)+c2*(x-x1)*(x-x3)+c3*(x-x2)*(x-x1))"
   ]
  },
  {
   "cell_type": "code",
   "execution_count": 3,
   "id": "354099ac",
   "metadata": {},
   "outputs": [
    {
     "name": "stdout",
     "output_type": "stream",
     "text": [
      "y1\n",
      "y2\n",
      "y3\n"
     ]
    }
   ],
   "source": [
    "print(f(x1))\n",
    "print(f(x2))\n",
    "print(f(x3))"
   ]
  },
  {
   "cell_type": "markdown",
   "id": "b7f14a19",
   "metadata": {},
   "source": [
    "We derive a general rule:"
   ]
  },
  {
   "cell_type": "code",
   "execution_count": 4,
   "id": "58724e13",
   "metadata": {},
   "outputs": [
    {
     "data": {
      "text/latex": [
       "$\\displaystyle - \\frac{\\left(x_{1} - x_{3}\\right) \\left(x_{1}^{2} y_{2} - x_{1}^{2} y_{3} + 2 x_{1} x_{2} y_{1} + 4 x_{1} x_{2} y_{3} - 2 x_{1} x_{3} y_{1} - 2 x_{1} x_{3} y_{2} - 2 x_{1} x_{3} y_{3} - 3 x_{2}^{2} y_{1} - 3 x_{2}^{2} y_{3} + 4 x_{2} x_{3} y_{1} + 2 x_{2} x_{3} y_{3} - x_{3}^{2} y_{1} + x_{3}^{2} y_{2}\\right)}{6 \\left(x_{1} - x_{2}\\right) \\left(x_{2} - x_{3}\\right)}$"
      ],
      "text/plain": [
       "-(x1 - x3)*(x1**2*y2 - x1**2*y3 + 2*x1*x2*y1 + 4*x1*x2*y3 - 2*x1*x3*y1 - 2*x1*x3*y2 - 2*x1*x3*y3 - 3*x2**2*y1 - 3*x2**2*y3 + 4*x2*x3*y1 + 2*x2*x3*y3 - x3**2*y1 + x3**2*y2)/(6*(x1 - x2)*(x2 - x3))"
      ]
     },
     "execution_count": 4,
     "metadata": {},
     "output_type": "execute_result"
    }
   ],
   "source": [
    "sympy.factor(sympy.simplify(sympy.integrate(f(xvar), (xvar, x1, x3))))"
   ]
  },
  {
   "cell_type": "markdown",
   "id": "509a5b2c",
   "metadata": {},
   "source": [
    "We isolate the 'big' term in the numerator and split it in the different y. These coefficients can be further simplified."
   ]
  },
  {
   "cell_type": "code",
   "execution_count": 5,
   "id": "b7ac82ee",
   "metadata": {},
   "outputs": [
    {
     "name": "stdout",
     "output_type": "stream",
     "text": [
      "-x1**2*y2 + x1**2*y3 - 2*x1*x2*y1 - 4*x1*x2*y3 + 2*x1*x3*y1 + 2*x1*x3*y2 + 2*x1*x3*y3 + 3*x2**2*y1 + 3*x2**2*y3 - 4*x2*x3*y1 - 2*x2*x3*y3 + x3**2*y1 - x3**2*y2\n"
     ]
    }
   ],
   "source": [
    "print(sympy.simplify(sympy.simplify(sympy.integrate(f(xvar), (xvar, x1, x3)))/(x1-x3)*(x1-x2)*(x2-x3)*6))\n"
   ]
  },
  {
   "cell_type": "code",
   "execution_count": 6,
   "id": "768d2190",
   "metadata": {},
   "outputs": [
    {
     "name": "stdout",
     "output_type": "stream",
     "text": [
      "-(x2 - x3)*(2*x1 - 3*x2 + x3)\n",
      "-(x1 - x3)**2\n",
      "(x1 - x2)*(x1 - 3*x2 + 2*x3)\n"
     ]
    }
   ],
   "source": [
    "print(sympy.factor(- 2*x1*x2 + 2*x1*x3 + 3*x2**2 - 4*x2*x3 + x3**2))\n",
    "print(sympy.factor(-x1**2 + 2*x1*x3 - x3**2))\n",
    "print(sympy.factor(+ x1**2 - 4*x1*x2 + 2*x1*x3 + 3*x2**2 - 2*x2*x3))"
   ]
  },
  {
   "cell_type": "markdown",
   "id": "273130e9",
   "metadata": {},
   "source": [
    "Then, we rederive simpson's rule for equidistant support points and see that sympy does the correct calculations."
   ]
  },
  {
   "cell_type": "code",
   "execution_count": 7,
   "id": "e31e6a49",
   "metadata": {},
   "outputs": [
    {
     "data": {
      "text/latex": [
       "$\\displaystyle - \\frac{\\left(x_{1} - x_{3}\\right) \\left(y_{1} + 4 y_{2} + y_{3}\\right)}{6}$"
      ],
      "text/plain": [
       "-(x1 - x3)*(y1 + 4*y2 + y3)/6"
      ]
     },
     "execution_count": 7,
     "metadata": {},
     "output_type": "execute_result"
    }
   ],
   "source": [
    "\n",
    "x2=(x1+x3)/2\n",
    "c1 = y1 / ((x1-x2)*(x1-x3))\n",
    "c2 = y2 / ((x2-x1)*(x2-x3))\n",
    "c3 = y3 / ((x3-x2)*(x3-x1))\n",
    "sympy.factor(sympy.integrate(f(xvar), (xvar, x1, x3)))"
   ]
  }
 ],
 "metadata": {
  "kernelspec": {
   "display_name": "Python 3",
   "language": "python",
   "name": "python3"
  },
  "language_info": {
   "codemirror_mode": {
    "name": "ipython",
    "version": 3
   },
   "file_extension": ".py",
   "mimetype": "text/x-python",
   "name": "python",
   "nbconvert_exporter": "python",
   "pygments_lexer": "ipython3",
   "version": "3.8.10"
  }
 },
 "nbformat": 4,
 "nbformat_minor": 5
}
